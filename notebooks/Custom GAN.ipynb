{
 "cells": [
  {
   "cell_type": "code",
   "execution_count": 1,
   "id": "compact-kingdom",
   "metadata": {},
   "outputs": [],
   "source": [
    "import os, sys; sys.path.append(\"../src\")\n",
    "import torch\n",
    "import wandb\n",
    "\n",
    "import torch.nn as nn\n",
    "import torch.optim as optim\n",
    "\n",
    "from tqdm import trange\n",
    "from models.gan_trainer import GANTrainer\n",
    "from torchvision import transforms, models\n",
    "from torch.utils.data import DataLoader\n",
    "from utils.image_dataset import ImageDataset\n",
    "from utils.find_size import model_output, decoder_input\n",
    "from torchsummary import summary\n",
    "from itertools import starmap"
   ]
  },
  {
   "cell_type": "markdown",
   "id": "referenced-issue",
   "metadata": {},
   "source": [
    "# GAN"
   ]
  },
  {
   "cell_type": "code",
   "execution_count": 2,
   "id": "seventh-angel",
   "metadata": {
    "tags": []
   },
   "outputs": [
    {
     "name": "stderr",
     "output_type": "stream",
     "text": [
      "wandb: Currently logged in as: kamwithk (use `wandb login --relogin` to force relogin)\n",
      "wandb: wandb version 0.10.22 is available!  To upgrade, please run:\n",
      "wandb:  $ pip install wandb --upgrade\n"
     ]
    },
    {
     "data": {
      "text/html": [
       "\n",
       "                Tracking run with wandb version 0.10.20<br/>\n",
       "                Syncing run <strong style=\"color:#cdcd00\">Custom Architecture GAN</strong> to <a href=\"https://wandb.ai\" target=\"_blank\">Weights & Biases</a> <a href=\"https://docs.wandb.com/integrations/jupyter.html\" target=\"_blank\">(Documentation)</a>.<br/>\n",
       "                Project page: <a href=\"https://wandb.ai/lionel-polanski/comic-character-generation\" target=\"_blank\">https://wandb.ai/lionel-polanski/comic-character-generation</a><br/>\n",
       "                Run page: <a href=\"https://wandb.ai/lionel-polanski/comic-character-generation/runs/v5ctkosu\" target=\"_blank\">https://wandb.ai/lionel-polanski/comic-character-generation/runs/v5ctkosu</a><br/>\n",
       "                Run data is saved locally in <code>..\\wandb\\run-20210316_203050-v5ctkosu</code><br/><br/>\n",
       "            "
      ],
      "text/plain": [
       "<IPython.core.display.HTML object>"
      ]
     },
     "metadata": {},
     "output_type": "display_data"
    },
    {
     "data": {
      "text/html": [
       "<h1>Run(v5ctkosu)</h1><iframe src=\"https://wandb.ai/lionel-polanski/comic-character-generation/runs/v5ctkosu\" style=\"border:none;width:100%;height:400px\"></iframe>"
      ],
      "text/plain": [
       "<wandb.sdk.wandb_run.Run at 0x173ecaf5708>"
      ]
     },
     "execution_count": 2,
     "metadata": {},
     "output_type": "execute_result"
    }
   ],
   "source": [
    "wandb.init(project=\"comic-character-generation\", entity=\"lionel-polanski\", name=\"Custom Architecture GAN\", dir=\"..\")"
   ]
  },
  {
   "cell_type": "markdown",
   "id": "prescribed-worship",
   "metadata": {},
   "source": [
    "## Parameters"
   ]
  },
  {
   "cell_type": "code",
   "execution_count": 3,
   "id": "animated-winter",
   "metadata": {},
   "outputs": [],
   "source": [
    "size = 64\n",
    "in_channels = 3\n",
    "batch_size = 64\n",
    "\n",
    "epochs = 500\n",
    "hidden_dims = [512, 256, 128, 64, 32]\n",
    "latent_vector = hidden_dims[0]"
   ]
  },
  {
   "cell_type": "markdown",
   "id": "entire-sampling",
   "metadata": {},
   "source": [
    "## Data"
   ]
  },
  {
   "cell_type": "code",
   "execution_count": 4,
   "id": "independent-command",
   "metadata": {},
   "outputs": [],
   "source": [
    "decoder_size = decoder_input(hidden_dims, in_channels, size)[0][-1]"
   ]
  },
  {
   "cell_type": "code",
   "execution_count": 5,
   "id": "intensive-proportion",
   "metadata": {},
   "outputs": [],
   "source": [
    "transform = transforms.Compose([\n",
    "    transforms.Resize(size),\n",
    "    transforms.RandomHorizontalFlip(),\n",
    "    transforms.CenterCrop(size),\n",
    "    transforms.ToTensor(),\n",
    "    transforms.Normalize((0.5, 0.5, 0.5), (0.5, 0.5, 0.5)),\n",
    "])"
   ]
  },
  {
   "cell_type": "code",
   "execution_count": 6,
   "id": "suspended-switzerland",
   "metadata": {},
   "outputs": [],
   "source": [
    "dataset = ImageDataset(\"../data/superhero_white_background\", transform, decoder_size, latent_vector)\n",
    "dataloader = DataLoader(dataset, batch_size=batch_size, shuffle=True, num_workers=0)"
   ]
  },
  {
   "cell_type": "markdown",
   "id": "compact-nepal",
   "metadata": {},
   "source": [
    "## Model Architecture"
   ]
  },
  {
   "cell_type": "code",
   "execution_count": 7,
   "id": "cognitive-ivory",
   "metadata": {},
   "outputs": [],
   "source": [
    "def weights_init(m):\n",
    "    classname = m.__class__.__name__\n",
    "    if classname.find('Conv') != -1:\n",
    "        nn.init.normal_(m.weight.data, 0.0, 0.02)\n",
    "    elif classname.find('BatchNorm') != -1:\n",
    "        nn.init.normal_(m.weight.data, 1.0, 0.02)\n",
    "        nn.init.constant_(m.bias.data, 0)"
   ]
  },
  {
   "cell_type": "code",
   "execution_count": 8,
   "id": "proof-electron",
   "metadata": {},
   "outputs": [],
   "source": [
    "def block(in_channels, out_channels):\n",
    "    return nn.Sequential(\n",
    "        nn.ConvTranspose2d(in_channels, out_channels=in_channels, kernel_size=1),\n",
    "        nn.BatchNorm2d(in_channels),\n",
    "        nn.LeakyReLU(),\n",
    "        \n",
    "        nn.ConvTranspose2d(in_channels, out_channels=in_channels, kernel_size=1),\n",
    "        nn.BatchNorm2d(in_channels),\n",
    "        nn.LeakyReLU(),\n",
    "\n",
    "        nn.ConvTranspose2d(in_channels, out_channels=out_channels, kernel_size=3, stride=2, padding=1, output_padding=1),\n",
    "        nn.BatchNorm2d(out_channels),\n",
    "        nn.LeakyReLU(),\n",
    "    )"
   ]
  },
  {
   "cell_type": "code",
   "execution_count": 9,
   "id": "waiting-allen",
   "metadata": {},
   "outputs": [],
   "source": [
    "class Generator(nn.Module):\n",
    "    def __init__(self, size=1, in_channels=3, hidden_dims=[512, 256, 128, 64, 32]):\n",
    "        super(Generator, self).__init__()\n",
    "        \n",
    "        self.main = nn.Sequential(*starmap(block, zip(hidden_dims[:-1], hidden_dims[1:])))\n",
    "        \n",
    "        self.final_layer = nn.Sequential(\n",
    "            nn.ConvTranspose2d(hidden_dims[-1], hidden_dims[-1], kernel_size=3, stride=2, padding=1, output_padding=1),\n",
    "            nn.BatchNorm2d(hidden_dims[-1]),\n",
    "            nn.LeakyReLU(),\n",
    "            nn.Conv2d(hidden_dims[-1], out_channels=3, kernel_size=3, padding=1),\n",
    "            nn.Tanh()\n",
    "        )\n",
    "\n",
    "    def forward(self, input):\n",
    "        return self.final_layer(self.main(input))"
   ]
  },
  {
   "cell_type": "code",
   "execution_count": 10,
   "id": "liberal-glenn",
   "metadata": {},
   "outputs": [],
   "source": [
    "class Discriminator(nn.Module):\n",
    "    def __init__(self, hidden_dims=[32, 64, 128, 256, 512], final_conv_kernel=1):\n",
    "        super(Discriminator, self).__init__()\n",
    "        \n",
    "        self.main = nn.Sequential(*[\n",
    "            nn.Sequential(\n",
    "                nn.Conv2d(in_channels, out_channels=out_channels, kernel_size=3, stride=2, padding=1),\n",
    "                nn.BatchNorm2d(out_channels),\n",
    "                nn.LeakyReLU()\n",
    "            ) for in_channels, out_channels in zip([3, *hidden_dims[:-1]], hidden_dims)\n",
    "        ])\n",
    "        \n",
    "        self.final_layer = nn.Sequential(\n",
    "            nn.Conv2d(hidden_dims[-1], 1, final_conv_kernel),\n",
    "            nn.Sigmoid()\n",
    "        )\n",
    "\n",
    "    def forward(self, input):\n",
    "        return self.final_layer(self.main(input))"
   ]
  },
  {
   "cell_type": "code",
   "execution_count": 11,
   "id": "compound-league",
   "metadata": {},
   "outputs": [],
   "source": [
    "class ResnetDiscriminator(nn.Module):\n",
    "    def __init__(self, model=models.resnet18(pretrained=True), size=128):\n",
    "        super(ResnetDiscriminator, self).__init__()\n",
    "        \n",
    "        resnet_output_shape = model_output(nn.Sequential(*list(model.children())[:-2]), size=size)\n",
    "        final_conv_kernel, final_layer_input = resnet_output_shape[0][-1], resnet_output_shape[0][1]\n",
    "        \n",
    "        self.resnet = model.to(\"cuda\")\n",
    "        self.resnet.avgpool, self.resnet.fc = nn.Conv2d(final_layer_input, 1, final_conv_kernel).to(\"cuda\"), nn.Sigmoid().to(\"cuda\")\n",
    "\n",
    "    def forward(self, input):\n",
    "        return self.resnet(input)"
   ]
  },
  {
   "cell_type": "markdown",
   "id": "substantial-monday",
   "metadata": {},
   "source": [
    "## Model Creation"
   ]
  },
  {
   "cell_type": "code",
   "execution_count": 12,
   "id": "charged-packet",
   "metadata": {},
   "outputs": [],
   "source": [
    "generator = Generator(decoder_size, in_channels, hidden_dims).to(\"cuda\")\n",
    "# discriminator = Discriminator(hidden_dims[::-1], decoder_size).to(\"cuda\")\n",
    "discriminator = ResnetDiscriminator(models.resnet18(pretrained=False), size).to(\"cuda\")\n",
    "\n",
    "generator = generator.apply(weights_init)\n",
    "# discriminator = discriminator.apply(weights_init)\n",
    "\n",
    "wandb.watch(generator);\n",
    "wandb.watch(discriminator);"
   ]
  },
  {
   "cell_type": "code",
   "execution_count": 13,
   "id": "black-moore",
   "metadata": {},
   "outputs": [],
   "source": [
    "# summary(discriminator, (3, 64, 64))"
   ]
  },
  {
   "cell_type": "markdown",
   "id": "complimentary-grill",
   "metadata": {},
   "source": [
    "## Optimisers"
   ]
  },
  {
   "cell_type": "code",
   "execution_count": 13,
   "id": "fatal-nickname",
   "metadata": {},
   "outputs": [],
   "source": [
    "generator_optimiser = optim.Adam(generator.parameters(), lr=0.001, betas=(0.5, 0.999))\n",
    "discriminator_optimiser = optim.Adam(discriminator.parameters(), lr=0.0002, betas=(0.5, 0.999))"
   ]
  },
  {
   "cell_type": "code",
   "execution_count": 14,
   "id": "extreme-warner",
   "metadata": {},
   "outputs": [],
   "source": [
    "gan_trainer = GANTrainer(generator, discriminator, generator_optimiser, discriminator_optimiser)"
   ]
  },
  {
   "cell_type": "markdown",
   "id": "imposed-michigan",
   "metadata": {},
   "source": [
    "## Training"
   ]
  },
  {
   "cell_type": "code",
   "execution_count": null,
   "id": "running-gender",
   "metadata": {},
   "outputs": [],
   "source": [
    "for epoch in trange(epochs):\n",
    "    for noise, imgs in dataloader:\n",
    "        # Labels\n",
    "        real_label = torch.full((imgs.size(0),), 1., dtype=torch.float, device=\"cuda\")\n",
    "        fake_label = torch.full((imgs.size(0),), 0., dtype=torch.float, device=\"cuda\")\n",
    "        \n",
    "        noise, imgs = noise.to(\"cuda\"), imgs.to(\"cuda\")\n",
    "        \n",
    "        real_loss, fake_loss = gan_trainer.train_discriminator(noise, imgs, real_label, fake_label)\n",
    "        generator_loss = gan_trainer.train_generator(noise, real_label)\n",
    "        \n",
    "        # Log Stats\n",
    "        wandb.log({\n",
    "            \"real_loss\": real_loss, \"fake_loss\": fake_loss,\n",
    "            \"generator_loss\": generator_loss\n",
    "        })\n",
    "        \n",
    "    # LOG SAMPLE IMAGES\n",
    "    generations = gan_trainer.generator(torch.randn(5, *dataset[0][0].shape, device=\"cuda\"))\n",
    "    wandb.log({\"generations\": [wandb.Image(sample_generation) for sample_generation in generations]})"
   ]
  },
  {
   "cell_type": "code",
   "execution_count": null,
   "id": "chronic-certification",
   "metadata": {},
   "outputs": [],
   "source": [
    "torch.save(generator.state_dict(), os.path.join(wandb.run.dir, \"generator_model.pt\"))\n",
    "torch.save(discriminator.state_dict(), os.path.join(wandb.run.dir, \"discriminator_model.pt\"))"
   ]
  },
  {
   "cell_type": "code",
   "execution_count": null,
   "id": "revised-overhead",
   "metadata": {},
   "outputs": [],
   "source": []
  }
 ],
 "metadata": {
  "kernelspec": {
   "display_name": "Python 3",
   "language": "python",
   "name": "python3"
  },
  "language_info": {
   "codemirror_mode": {
    "name": "ipython",
    "version": 3
   },
   "file_extension": ".py",
   "mimetype": "text/x-python",
   "name": "python",
   "nbconvert_exporter": "python",
   "pygments_lexer": "ipython3",
   "version": "3.7.10"
  }
 },
 "nbformat": 4,
 "nbformat_minor": 5
}
