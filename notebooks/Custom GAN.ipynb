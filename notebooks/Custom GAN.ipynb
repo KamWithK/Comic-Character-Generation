{
 "cells": [
  {
   "cell_type": "code",
   "execution_count": 1,
   "id": "unauthorized-formula",
   "metadata": {},
   "outputs": [],
   "source": [
    "import os, sys; sys.path.append(\"../src\")\n",
    "import torch\n",
    "import wandb\n",
    "\n",
    "import torch.nn as nn\n",
    "import torch.optim as optim\n",
    "\n",
    "from tqdm import trange\n",
    "from models.gan_trainer import GANTrainer\n",
    "from models.custom_generator import Generator\n",
    "from models.custom_discriminator import Discriminator\n",
    "from models.resnet_discriminator import ResnetDiscriminator\n",
    "from torchvision import transforms, models\n",
    "from torch.utils.data import DataLoader\n",
    "from utils.image_dataset import ImageDataset\n",
    "from torchsummary import summary"
   ]
  },
  {
   "cell_type": "markdown",
   "id": "executed-tulsa",
   "metadata": {
    "tags": []
   },
   "source": [
    "# GAN"
   ]
  },
  {
   "cell_type": "code",
   "execution_count": 2,
   "id": "conscious-palmer",
   "metadata": {
    "tags": []
   },
   "outputs": [
    {
     "name": "stderr",
     "output_type": "stream",
     "text": [
      "wandb: Currently logged in as: kamwithk (use `wandb login --relogin` to force relogin)\n",
      "wandb: wandb version 0.10.22 is available!  To upgrade, please run:\n",
      "wandb:  $ pip install wandb --upgrade\n"
     ]
    },
    {
     "data": {
      "text/html": [
       "\n",
       "                Tracking run with wandb version 0.10.20<br/>\n",
       "                Syncing run <strong style=\"color:#cdcd00\">RaGAN 64 White Backgrounds</strong> to <a href=\"https://wandb.ai\" target=\"_blank\">Weights & Biases</a> <a href=\"https://docs.wandb.com/integrations/jupyter.html\" target=\"_blank\">(Documentation)</a>.<br/>\n",
       "                Project page: <a href=\"https://wandb.ai/lionel-polanski/comic-character-generation\" target=\"_blank\">https://wandb.ai/lionel-polanski/comic-character-generation</a><br/>\n",
       "                Run page: <a href=\"https://wandb.ai/lionel-polanski/comic-character-generation/runs/10i87a9e\" target=\"_blank\">https://wandb.ai/lionel-polanski/comic-character-generation/runs/10i87a9e</a><br/>\n",
       "                Run data is saved locally in <code>..\\wandb\\run-20210320_182805-10i87a9e</code><br/><br/>\n",
       "            "
      ],
      "text/plain": [
       "<IPython.core.display.HTML object>"
      ]
     },
     "metadata": {},
     "output_type": "display_data"
    },
    {
     "data": {
      "text/html": [
       "<h1>Run(10i87a9e)</h1><iframe src=\"https://wandb.ai/lionel-polanski/comic-character-generation/runs/10i87a9e\" style=\"border:none;width:100%;height:400px\"></iframe>"
      ],
      "text/plain": [
       "<wandb.sdk.wandb_run.Run at 0x260bd365748>"
      ]
     },
     "execution_count": 2,
     "metadata": {},
     "output_type": "execute_result"
    }
   ],
   "source": [
    "wandb.init(project=\"comic-character-generation\", entity=\"lionel-polanski\", name=\"RaGAN 64 White Backgrounds\", dir=\"..\", mode=\"online\")"
   ]
  },
  {
   "cell_type": "markdown",
   "id": "stretch-buffer",
   "metadata": {
    "tags": []
   },
   "source": [
    "## Parameters"
   ]
  },
  {
   "cell_type": "code",
   "execution_count": 3,
   "id": "documented-anchor",
   "metadata": {},
   "outputs": [],
   "source": [
    "size = 64\n",
    "channels = 3\n",
    "batch_size = 32\n",
    "\n",
    "epochs = 1000\n",
    "hidden_dims = [512, 256, 128, 64, 32]\n",
    "noise_size, latent_dims = 1, 128"
   ]
  },
  {
   "cell_type": "markdown",
   "id": "guided-medication",
   "metadata": {},
   "source": [
    "## Data"
   ]
  },
  {
   "cell_type": "code",
   "execution_count": 4,
   "id": "unauthorized-invention",
   "metadata": {},
   "outputs": [],
   "source": [
    "transform = transforms.Compose([\n",
    "    transforms.Resize(size),\n",
    "    transforms.RandomHorizontalFlip(),\n",
    "    transforms.CenterCrop(size),\n",
    "    transforms.ToTensor(),\n",
    "    transforms.Normalize((0.5, 0.5, 0.5), (0.5, 0.5, 0.5)),\n",
    "])"
   ]
  },
  {
   "cell_type": "code",
   "execution_count": 5,
   "id": "centered-multimedia",
   "metadata": {},
   "outputs": [],
   "source": [
    "dataset = ImageDataset(\"../data/superhero_white_background\", transform, noise_size, latent_dims)\n",
    "dataloader = DataLoader(dataset, batch_size=batch_size, shuffle=True, num_workers=0)"
   ]
  },
  {
   "cell_type": "markdown",
   "id": "defined-lawyer",
   "metadata": {},
   "source": [
    "## Model Creation"
   ]
  },
  {
   "cell_type": "code",
   "execution_count": 6,
   "id": "decent-customer",
   "metadata": {},
   "outputs": [],
   "source": [
    "def weights_init(m):\n",
    "    classname = m.__class__.__name__\n",
    "    if classname.find('Conv') != -1:\n",
    "        nn.init.normal_(m.weight.data, 0.0, 0.02)\n",
    "    elif classname.find('BatchNorm') != -1:\n",
    "        nn.init.normal_(m.weight.data, 1.0, 0.02)\n",
    "        nn.init.constant_(m.bias.data, 0)"
   ]
  },
  {
   "cell_type": "code",
   "execution_count": 7,
   "id": "cellular-cigarette",
   "metadata": {},
   "outputs": [],
   "source": [
    "generator = Generator(noise_size, size, latent_dims, channels, hidden_dims).to(\"cuda\")\n",
    "discriminator = Discriminator(size, channels, hidden_dims[::-1]).to(\"cuda\")\n",
    "# discriminator = ResnetDiscriminator(models.resnet18(pretrained=False), size).to(\"cuda\")\n",
    "\n",
    "generator = generator.apply(weights_init)\n",
    "discriminator = discriminator.apply(weights_init)\n",
    "\n",
    "wandb.watch(generator);\n",
    "wandb.watch(discriminator);"
   ]
  },
  {
   "cell_type": "code",
   "execution_count": 8,
   "id": "placed-macro",
   "metadata": {},
   "outputs": [],
   "source": [
    "# summary(discriminator, (3, 64, 64))"
   ]
  },
  {
   "cell_type": "markdown",
   "id": "continuing-suffering",
   "metadata": {},
   "source": [
    "## Optimisers"
   ]
  },
  {
   "cell_type": "code",
   "execution_count": 9,
   "id": "specific-terrace",
   "metadata": {},
   "outputs": [],
   "source": [
    "generator_optimiser = optim.Adam(generator.parameters(), lr=0.0001, betas=(0.5, 0.999))\n",
    "discriminator_optimiser = optim.Adam(discriminator.parameters(), lr=0.0004, betas=(0.5, 0.999))"
   ]
  },
  {
   "cell_type": "code",
   "execution_count": 10,
   "id": "comfortable-drawing",
   "metadata": {},
   "outputs": [],
   "source": [
    "gan_trainer = GANTrainer(generator, discriminator, generator_optimiser, discriminator_optimiser, relavistic=\"average\")"
   ]
  },
  {
   "cell_type": "markdown",
   "id": "least-cleveland",
   "metadata": {},
   "source": [
    "## Training"
   ]
  },
  {
   "cell_type": "code",
   "execution_count": 11,
   "id": "precious-smith",
   "metadata": {},
   "outputs": [],
   "source": [
    "# LOG SAMPLE IMAGES BEFORE TRAINING STARTS\n",
    "generations = gan_trainer.generator(torch.randn(5, *dataset[0][0].shape, device=\"cuda\"))\n",
    "wandb.log({\"generations\": [wandb.Image(sample_generation) for sample_generation in generations]})"
   ]
  },
  {
   "cell_type": "code",
   "execution_count": null,
   "id": "coastal-merchant",
   "metadata": {},
   "outputs": [],
   "source": [
    "for epoch in trange(epochs):\n",
    "    for index, (noise, imgs) in enumerate(dataloader):\n",
    "        # Labels\n",
    "        real_label = torch.full((imgs.size(0),), 1., dtype=torch.float, device=\"cuda\")\n",
    "        fake_label = torch.full((imgs.size(0),), 0., dtype=torch.float, device=\"cuda\")\n",
    "        \n",
    "        noise, imgs = noise.to(\"cuda\"), imgs.to(\"cuda\")\n",
    "        \n",
    "        real_loss, fake_loss = gan_trainer.train_discriminator(noise, imgs, real_label, fake_label)\n",
    "        generator_loss = gan_trainer.train_generator(noise, imgs, real_label, fake_label)\n",
    "        \n",
    "        # Log Stats\n",
    "        wandb.log({\n",
    "            \"real_loss\": real_loss, \"fake_loss\": fake_loss,\n",
    "            \"generator_loss\": generator_loss\n",
    "        })\n",
    "        \n",
    "    # LOG SAMPLE IMAGES\n",
    "    generations = gan_trainer.generator(torch.randn(5, *dataset[0][0].shape, device=\"cuda\"))\n",
    "    wandb.log({\"generations\": [wandb.Image(sample_generation) for sample_generation in generations]})"
   ]
  },
  {
   "cell_type": "code",
   "execution_count": null,
   "id": "finished-processor",
   "metadata": {},
   "outputs": [],
   "source": [
    "torch.save(generator.state_dict(), os.path.join(wandb.run.dir, \"generator_model.pt\"))\n",
    "torch.save(discriminator.state_dict(), os.path.join(wandb.run.dir, \"discriminator_model.pt\"))"
   ]
  },
  {
   "cell_type": "code",
   "execution_count": null,
   "id": "ranging-charleston",
   "metadata": {},
   "outputs": [],
   "source": []
  },
  {
   "cell_type": "code",
   "execution_count": null,
   "id": "bridal-academy",
   "metadata": {},
   "outputs": [],
   "source": []
  }
 ],
 "metadata": {
  "kernelspec": {
   "display_name": "Python 3",
   "language": "python",
   "name": "python3"
  },
  "language_info": {
   "codemirror_mode": {
    "name": "ipython",
    "version": 3
   },
   "file_extension": ".py",
   "mimetype": "text/x-python",
   "name": "python",
   "nbconvert_exporter": "python",
   "pygments_lexer": "ipython3",
   "version": "3.7.10"
  }
 },
 "nbformat": 4,
 "nbformat_minor": 5
}
