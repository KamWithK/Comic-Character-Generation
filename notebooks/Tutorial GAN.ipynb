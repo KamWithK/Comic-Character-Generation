{
 "cells": [
  {
   "cell_type": "code",
   "execution_count": 1,
   "id": "younger-tucson",
   "metadata": {},
   "outputs": [],
   "source": [
    "import os, sys; sys.path.append(\"../src\")\n",
    "import torch\n",
    "import wandb\n",
    "\n",
    "import torch.nn as nn\n",
    "import torch.optim as optim\n",
    "\n",
    "from tqdm import trange\n",
    "from torchvision import transforms, models\n",
    "from torch.utils.data import DataLoader\n",
    "from utils.image_dataset import ImageDataset"
   ]
  },
  {
   "cell_type": "markdown",
   "id": "secret-diamond",
   "metadata": {},
   "source": [
    "# GAN"
   ]
  },
  {
   "cell_type": "code",
   "execution_count": 2,
   "id": "contrary-czech",
   "metadata": {},
   "outputs": [
    {
     "name": "stderr",
     "output_type": "stream",
     "text": [
      "wandb: Currently logged in as: kamwithk (use `wandb login --relogin` to force relogin)\n"
     ]
    },
    {
     "data": {
      "text/html": [
       "\n",
       "                Tracking run with wandb version 0.10.20<br/>\n",
       "                Syncing run <strong style=\"color:#cdcd00\">Tutorial GAN</strong> to <a href=\"https://wandb.ai\" target=\"_blank\">Weights & Biases</a> <a href=\"https://docs.wandb.com/integrations/jupyter.html\" target=\"_blank\">(Documentation)</a>.<br/>\n",
       "                Project page: <a href=\"https://wandb.ai/lionel-polanski/comic-character-generation\" target=\"_blank\">https://wandb.ai/lionel-polanski/comic-character-generation</a><br/>\n",
       "                Run page: <a href=\"https://wandb.ai/lionel-polanski/comic-character-generation/runs/3rqfv7kd\" target=\"_blank\">https://wandb.ai/lionel-polanski/comic-character-generation/runs/3rqfv7kd</a><br/>\n",
       "                Run data is saved locally in <code>C:\\Users\\kamwi\\Development\\LionelPolanski\\notebooks\\wandb\\run-20210228_160602-3rqfv7kd</code><br/><br/>\n",
       "            "
      ],
      "text/plain": [
       "<IPython.core.display.HTML object>"
      ]
     },
     "metadata": {},
     "output_type": "display_data"
    },
    {
     "data": {
      "text/html": [
       "<h1>Run(3rqfv7kd)</h1><iframe src=\"https://wandb.ai/lionel-polanski/comic-character-generation/runs/3rqfv7kd\" style=\"border:none;width:100%;height:400px\"></iframe>"
      ],
      "text/plain": [
       "<wandb.sdk.wandb_run.Run at 0x2507eeb7948>"
      ]
     },
     "execution_count": 2,
     "metadata": {},
     "output_type": "execute_result"
    }
   ],
   "source": [
    "wandb.init(project=\"comic-character-generation\", entity=\"lionel-polanski\", name=\"Tutorial GAN\")"
   ]
  },
  {
   "cell_type": "markdown",
   "id": "musical-municipality",
   "metadata": {},
   "source": [
    "## Parameters"
   ]
  },
  {
   "cell_type": "code",
   "execution_count": 3,
   "id": "apparent-disorder",
   "metadata": {},
   "outputs": [],
   "source": [
    "epochs = 200\n",
    "latent_vector = 100\n",
    "ngf = 100\n",
    "\n",
    "ndf = 64"
   ]
  },
  {
   "cell_type": "markdown",
   "id": "protected-preservation",
   "metadata": {},
   "source": [
    "## Data"
   ]
  },
  {
   "cell_type": "code",
   "execution_count": 4,
   "id": "static-street",
   "metadata": {},
   "outputs": [],
   "source": [
    "transform = transforms.Compose([\n",
    "    transforms.Resize(64),\n",
    "    transforms.RandomHorizontalFlip(),\n",
    "    transforms.CenterCrop(64),\n",
    "    transforms.ToTensor(),\n",
    "    transforms.Normalize((0.5, 0.5, 0.5), (0.5, 0.5, 0.5)),\n",
    "])"
   ]
  },
  {
   "cell_type": "code",
   "execution_count": 5,
   "id": "burning-meaning",
   "metadata": {},
   "outputs": [],
   "source": [
    "dataset = ImageDataset(transform=transform, latent_vector=latent_vector)\n",
    "dataloader = DataLoader(dataset, batch_size=32, shuffle=True, num_workers=0)"
   ]
  },
  {
   "cell_type": "markdown",
   "id": "clear-shoot",
   "metadata": {},
   "source": [
    "## Model Architecture\n",
    "Note: This model architecture is from the [official PyTorch GAN tutorial](https://pytorch.org/tutorials/beginner/dcgan_faces_tutorial.html)"
   ]
  },
  {
   "cell_type": "code",
   "execution_count": 6,
   "id": "comfortable-service",
   "metadata": {},
   "outputs": [],
   "source": [
    "def weights_init(m):\n",
    "    classname = m.__class__.__name__\n",
    "    if classname.find('Conv') != -1:\n",
    "        nn.init.normal_(m.weight.data, 0.0, 0.02)\n",
    "    elif classname.find('BatchNorm') != -1:\n",
    "        nn.init.normal_(m.weight.data, 1.0, 0.02)\n",
    "        nn.init.constant_(m.bias.data, 0)"
   ]
  },
  {
   "cell_type": "code",
   "execution_count": 7,
   "id": "heard-string",
   "metadata": {},
   "outputs": [],
   "source": [
    "class Generator(nn.Module):\n",
    "    def __init__(self):\n",
    "        super(Generator, self).__init__()\n",
    "        self.main = nn.Sequential(\n",
    "            # input is Z, going into a convolution\n",
    "            nn.ConvTranspose2d(latent_vector, ngf * 8, 4, 1, 0, bias=False),\n",
    "            nn.BatchNorm2d(ngf * 8),\n",
    "            nn.ReLU(True),\n",
    "            # state size. (ngf*8) x 4 x 4\n",
    "            nn.ConvTranspose2d(ngf * 8, ngf * 4, 4, 2, 1, bias=False),\n",
    "            nn.BatchNorm2d(ngf * 4),\n",
    "            nn.ReLU(True),\n",
    "            # state size. (ngf*4) x 8 x 8\n",
    "            nn.ConvTranspose2d(ngf * 4, ngf * 2, 4, 2, 1, bias=False),\n",
    "            nn.BatchNorm2d(ngf * 2),\n",
    "            nn.ReLU(True),\n",
    "            # state size. (ngf*2) x 16 x 16\n",
    "            nn.ConvTranspose2d(ngf * 2, ngf, 4, 2, 1, bias=False),\n",
    "            nn.BatchNorm2d(ngf),\n",
    "            nn.ReLU(True),\n",
    "            # state size. (ngf) x 32 x 32\n",
    "            nn.ConvTranspose2d(ngf, 3, 4, 2, 1, bias=False),\n",
    "            nn.Tanh()\n",
    "            # state size. (nc) x 64 x 64\n",
    "        )\n",
    "\n",
    "    def forward(self, input):\n",
    "        return self.main(input)"
   ]
  },
  {
   "cell_type": "code",
   "execution_count": 8,
   "id": "cathedral-position",
   "metadata": {},
   "outputs": [],
   "source": [
    "class Discriminator(nn.Module):\n",
    "    def __init__(self):\n",
    "        super(Discriminator, self).__init__()\n",
    "        \n",
    "        self.main = nn.Sequential(\n",
    "            # input is (num_channels) x 64 x 64\n",
    "            nn.Conv2d(3, ndf, 4, 2, 1, bias=False),\n",
    "            nn.LeakyReLU(0.2, inplace=True),\n",
    "            # state size. (ndf) x 32 x 32\n",
    "            nn.Conv2d(ndf, ndf * 2, 4, 2, 1, bias=False),\n",
    "            nn.BatchNorm2d(ndf * 2),\n",
    "            nn.LeakyReLU(0.2, inplace=True),\n",
    "            # state size. (ndf*2) x 16 x 16\n",
    "            nn.Conv2d(ndf * 2, ndf * 4, 4, 2, 1, bias=False),\n",
    "            nn.BatchNorm2d(ndf * 4),\n",
    "            nn.LeakyReLU(0.2, inplace=True),\n",
    "            # state size. (ndf*4) x 8 x 8\n",
    "            nn.Conv2d(ndf * 4, ndf * 8, 4, 2, 1, bias=False),\n",
    "            nn.BatchNorm2d(ndf * 8),\n",
    "            nn.LeakyReLU(0.2, inplace=True),\n",
    "            # state size. (ndf*8) x 4 x 4\n",
    "            nn.Conv2d(ndf * 8, 1, 4, 1, 0, bias=False),\n",
    "            nn.Sigmoid()\n",
    "        )\n",
    "\n",
    "    def forward(self, input):\n",
    "        return self.main(input)"
   ]
  },
  {
   "cell_type": "code",
   "execution_count": 9,
   "id": "judicial-juice",
   "metadata": {},
   "outputs": [],
   "source": [
    "generator = Generator().to(\"cuda\")\n",
    "discriminator = Discriminator().to(\"cuda\")\n",
    "\n",
    "generator = generator.apply(weights_init)\n",
    "discriminator = discriminator.apply(weights_init)\n",
    "\n",
    "wandb.watch(generator);\n",
    "wandb.watch(discriminator);"
   ]
  },
  {
   "cell_type": "markdown",
   "id": "acquired-undergraduate",
   "metadata": {},
   "source": [
    "## Optimisers"
   ]
  },
  {
   "cell_type": "code",
   "execution_count": 10,
   "id": "impossible-ordinary",
   "metadata": {},
   "outputs": [],
   "source": [
    "criterion = nn.BCELoss()\n",
    "\n",
    "generator_optimiser = optim.Adam(generator.parameters(), lr=0.0002, betas=(0.5, 0.999))\n",
    "discriminator_optimiser = optim.Adam(discriminator.parameters(), lr=0.0002, betas=(0.5, 0.999))"
   ]
  },
  {
   "cell_type": "markdown",
   "id": "conditional-house",
   "metadata": {},
   "source": [
    "## Training"
   ]
  },
  {
   "cell_type": "code",
   "execution_count": 11,
   "id": "increasing-essex",
   "metadata": {},
   "outputs": [
    {
     "name": "stderr",
     "output_type": "stream",
     "text": [
      "100%|████████████████████████████████████████████████████████████████████████████████████████████████████████████████████████████████████████████████████████| 200/200 [14:54<00:00,  4.47s/it]\n"
     ]
    }
   ],
   "source": [
    "for epoch in trange(epochs):\n",
    "    for noise, imgs in dataloader:\n",
    "        # Labels\n",
    "        real_label = torch.full((imgs.size(0),), 1., dtype=torch.float, device=\"cuda\")\n",
    "        fake_label = torch.full((imgs.size(0),), 0., dtype=torch.float, device=\"cuda\")\n",
    "        \n",
    "        noise, imgs = noise.to(\"cuda\"), imgs.to(\"cuda\")\n",
    "        \n",
    "        discriminator_optimiser.zero_grad()\n",
    "        \n",
    "        # Discriminator\n",
    "        real_loss = criterion(discriminator(imgs).view(-1), real_label)\n",
    "        fake_loss = criterion(discriminator(generator(noise).detach()).view(-1), fake_label)\n",
    "        \n",
    "        (real_loss + fake_loss).backward()\n",
    "        \n",
    "        discriminator_optimiser.step()\n",
    "        \n",
    "        # Generator\n",
    "        generator_optimiser.zero_grad()\n",
    "        \n",
    "        generator_loss = criterion(discriminator(generator(noise)).view(-1), real_label)\n",
    "        generator_loss.backward()\n",
    "        \n",
    "        generator_optimiser.step()\n",
    "        \n",
    "        # Log Stats\n",
    "        wandb.log({\n",
    "            \"real_loss\": real_loss, \"fake_loss\": fake_loss,\n",
    "            \"generator_loss\": generator_loss\n",
    "        })\n",
    "        \n",
    "    # LOG SAMPLE IMAGES\n",
    "    generations = generator(torch.randn(5, *dataset[0][0].shape, device=\"cuda\"))\n",
    "    wandb.log({\"generations\": [wandb.Image(sample_generation) for sample_generation in generations], \"epoch\": epoch})"
   ]
  },
  {
   "cell_type": "code",
   "execution_count": 12,
   "id": "corresponding-compromise",
   "metadata": {},
   "outputs": [],
   "source": [
    "torch.save(generator.state_dict(), os.path.join(wandb.run.dir, \"generator_model.pt\"))\n",
    "torch.save(discriminator.state_dict(), os.path.join(wandb.run.dir, \"discriminator_model.pt\"))"
   ]
  },
  {
   "cell_type": "code",
   "execution_count": null,
   "id": "cordless-serial",
   "metadata": {},
   "outputs": [],
   "source": []
  }
 ],
 "metadata": {
  "kernelspec": {
   "display_name": "Python 3",
   "language": "python",
   "name": "python3"
  },
  "language_info": {
   "codemirror_mode": {
    "name": "ipython",
    "version": 3
   },
   "file_extension": ".py",
   "mimetype": "text/x-python",
   "name": "python",
   "nbconvert_exporter": "python",
   "pygments_lexer": "ipython3",
   "version": "3.7.10"
  }
 },
 "nbformat": 4,
 "nbformat_minor": 5
}
